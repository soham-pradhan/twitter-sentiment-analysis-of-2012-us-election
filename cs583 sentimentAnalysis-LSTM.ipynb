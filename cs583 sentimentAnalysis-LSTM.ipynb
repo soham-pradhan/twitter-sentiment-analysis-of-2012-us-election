{
 "cells": [
  {
   "cell_type": "markdown",
   "id": "5f3a17ef",
   "metadata": {},
   "source": [
    "### Importing Libraries"
   ]
  },
  {
   "cell_type": "code",
   "execution_count": 1,
   "id": "818d62e8",
   "metadata": {},
   "outputs": [],
   "source": [
    "import numpy as np\n",
    "import pandas as pd\n",
    "import nltk\n",
    "import re\n",
    "from sklearn import *\n",
    "import time\n",
    "from sklearn.metrics import classification_report\n",
    "from sklearn.metrics import confusion_matrix\n",
    "from nltk.metrics.distance  import edit_distance\n",
    "from imblearn.over_sampling import SMOTE\n",
    "from collections import Counter\n",
    "import matplotlib.pyplot as plt\n",
    "import seaborn as sns \n",
    "from scipy import stats\n",
    "import tensorflow\n",
    "from tensorflow.python.keras.models import Sequential\n",
    "from tensorflow.python.keras.layers import Dense, Embedding,LSTM, SpatialDropout1D\n",
    "from tensorflow.python.keras.preprocessing.text import Tokenizer\n",
    "from keras.optimizers import Adam\n",
    "from keras.layers import Dropout\n",
    "from tensorflow.python.keras.preprocessing.sequence import pad_sequences\n",
    "from tensorflow.python.keras.models import load_model\n",
    "from sklearn.model_selection import train_test_split\n",
    "from sklearn.utils import class_weight\n",
    "\n",
    "import warnings\n",
    "warnings.filterwarnings(\"ignore\")"
   ]
  },
  {
   "cell_type": "markdown",
   "id": "0efc58c4",
   "metadata": {},
   "source": [
    "### Data Preprocessing"
   ]
  },
  {
   "cell_type": "code",
   "execution_count": 2,
   "id": "cd7134b4",
   "metadata": {},
   "outputs": [],
   "source": [
    "def dataClean(tweets_raw):\n",
    "    cleanTweets = []\n",
    "    for tweet in tweets_raw:\n",
    "        tweet = tweet.lower() #convert to lowercase\n",
    "        tweet = re.sub(r'\\w+:\\/{2}[\\d\\w-]+(\\.[\\d\\w-]+)*(?:(?:\\/[^\\s/]*))*', '', tweet) #remove URL\n",
    "        tweet = re.sub(r'(\\s)@\\w+', r'', tweet) #remove usernames\n",
    "        tweet = re.sub(r'@\\w+', r'', tweet) #remove usernames\n",
    "        tweet = re.sub('<[^<]+?>', '', tweet) #remove HTML tags\n",
    "        # tweet = re.sub(r'[<>!#@$:.,%\\?-]+', r'', tweet) #remove punctuation and special characters\n",
    "        tweet = re.sub('[^A-Za-z0-9 ]+', '', tweet)\n",
    "        tweet = re.sub(\" \\d+\", \" \", tweet) #remove standalone numbers\n",
    "        lower_case = tweet.lower() #tokenization\n",
    "        \n",
    "        words = lower_case.split()\n",
    "        tweet = ' '.join([w for w in words if not w in nltk.corpus.stopwords.words(\"english\")]) #remove stopwords\n",
    "        ps = nltk.stem.PorterStemmer()\n",
    "        stemmedTweet = [ps.stem(word) for word in tweet.split(\" \")]\n",
    "        stemmedTweet = \" \".join(stemmedTweet)\n",
    "        tweet = str(stemmedTweet)\n",
    "        tweet = tweet.replace(\"'\", \"\")\n",
    "        tweet = tweet.replace(\"\\\"\",\"\")\n",
    "\n",
    "        cleanTweets.append(tweet)\n",
    "        \n",
    "    return cleanTweets"
   ]
  },
  {
   "cell_type": "code",
   "execution_count": 3,
   "id": "022ceff2",
   "metadata": {},
   "outputs": [],
   "source": [
    "trainingFile = \"training-Obama-Romney-tweets.xlsx\"\n",
    "df_obama = pd.read_excel(trainingFile,sheet_name='Obama')\n",
    "df_romney = pd.read_excel(trainingFile,sheet_name='Romney')"
   ]
  },
  {
   "cell_type": "code",
   "execution_count": 4,
   "id": "af7d4a89",
   "metadata": {},
   "outputs": [],
   "source": [
    "df_obama.drop(df_obama.columns[0], axis=1, inplace = True)\n",
    "df_obama.drop(df_obama.columns[4:], axis=1, inplace = True)\n",
    "\n",
    "df_obama.drop([0],inplace=True)\n",
    "df_obama.rename(columns={df_obama.columns[3]: 'Class'}, inplace = True)"
   ]
  },
  {
   "cell_type": "code",
   "execution_count": 5,
   "id": "c2a4fbc2",
   "metadata": {},
   "outputs": [],
   "source": [
    "df_romney.drop(df_romney.columns[0], axis=1, inplace = True)\n",
    "df_romney.drop(df_romney.columns[4:], axis=1, inplace = True)\n",
    "\n",
    "df_romney.drop([0],inplace=True)\n",
    "df_romney.rename(columns={df_romney.columns[3]: 'Class'}, inplace = True)"
   ]
  },
  {
   "cell_type": "code",
   "execution_count": 6,
   "id": "4a08176f",
   "metadata": {},
   "outputs": [],
   "source": [
    "df_obama = df_obama[(df_obama['Class'].isin((1,-1)))]\n",
    "df_romney = df_romney[(df_romney['Class'].isin((1,-1)))]"
   ]
  },
  {
   "cell_type": "code",
   "execution_count": 7,
   "id": "0603922b",
   "metadata": {},
   "outputs": [],
   "source": [
    "obama_tweets_raw = df_obama['Anootated tweet']\n",
    "obama_class = df_obama['Class']\n",
    "romney_tweets_raw = df_romney['Anootated tweet']\n",
    "romney_class = df_romney['Class']"
   ]
  },
  {
   "cell_type": "code",
   "execution_count": 8,
   "id": "f9c7db2d",
   "metadata": {},
   "outputs": [],
   "source": [
    "obama_tweets_raw = obama_tweets_raw.tolist()\n",
    "romney_tweets_raw = romney_tweets_raw.tolist()"
   ]
  },
  {
   "cell_type": "code",
   "execution_count": 9,
   "id": "4612b139",
   "metadata": {},
   "outputs": [],
   "source": [
    "obama_class_train = obama_class.tolist()\n",
    "romney_class_train = romney_class.tolist()"
   ]
  },
  {
   "cell_type": "code",
   "execution_count": 10,
   "id": "fda72242",
   "metadata": {},
   "outputs": [],
   "source": [
    "obama_tweets = dataClean(obama_tweets_raw)\n",
    "romney_tweets = dataClean(romney_tweets_raw)"
   ]
  },
  {
   "cell_type": "markdown",
   "id": "6eb498cf",
   "metadata": {},
   "source": [
    "## ***LSTM - Obama***"
   ]
  },
  {
   "cell_type": "code",
   "execution_count": 11,
   "id": "9b7c2fab",
   "metadata": {},
   "outputs": [],
   "source": [
    "# obama_tweets, obama_class_train\n",
    "obama_df = pd.DataFrame(obama_tweets, columns=['Annotated tweet'])\n",
    "obama_df['Class'] = obama_class_train\n",
    "obama_df[\"Class\"].replace({-1: 0}, inplace=True)\n",
    "\n",
    "sentiment_obama = obama_df['Class'].values\n",
    "data_obama = obama_df['Annotated tweet']"
   ]
  },
  {
   "cell_type": "code",
   "execution_count": 12,
   "id": "9be60f0a",
   "metadata": {},
   "outputs": [],
   "source": [
    "x_train, x_test, y_train, y_test = train_test_split(data_obama, sentiment_obama, test_size = 0.2, random_state = 42)"
   ]
  },
  {
   "cell_type": "code",
   "execution_count": 13,
   "id": "03c40c9b",
   "metadata": {},
   "outputs": [],
   "source": [
    "tokenizer = Tokenizer(num_words = 1500)\n",
    "tokenizer.fit_on_texts(data_obama)"
   ]
  },
  {
   "cell_type": "code",
   "execution_count": 14,
   "id": "63b2fe87",
   "metadata": {},
   "outputs": [],
   "source": [
    "x_train_tokens = tokenizer.texts_to_sequences(x_train)\n",
    "x_test_tokens = tokenizer.texts_to_sequences(x_test)"
   ]
  },
  {
   "cell_type": "code",
   "execution_count": 15,
   "id": "82b2436b",
   "metadata": {},
   "outputs": [],
   "source": [
    "num_tokens = [len(tokens) for tokens in x_train_tokens + x_test_tokens]\n",
    "num_tokens = np.array(num_tokens)"
   ]
  },
  {
   "cell_type": "code",
   "execution_count": 16,
   "id": "a8a1b8ef",
   "metadata": {},
   "outputs": [
    {
     "data": {
      "text/plain": [
       "14"
      ]
     },
     "execution_count": 16,
     "metadata": {},
     "output_type": "execute_result"
    }
   ],
   "source": [
    "max_tokens = np.mean(num_tokens) + 2 * np.std(num_tokens)\n",
    "max_tokens = int(max_tokens)\n",
    "max_tokens"
   ]
  },
  {
   "cell_type": "code",
   "execution_count": 17,
   "id": "484d5baa",
   "metadata": {},
   "outputs": [
    {
     "data": {
      "text/plain": [
       "0.9583216783216784"
      ]
     },
     "execution_count": 17,
     "metadata": {},
     "output_type": "execute_result"
    }
   ],
   "source": [
    "np.sum(num_tokens < max_tokens) / len(num_tokens)"
   ]
  },
  {
   "cell_type": "code",
   "execution_count": 18,
   "id": "8e0127cb",
   "metadata": {},
   "outputs": [],
   "source": [
    "x_train_pad = pad_sequences(x_train_tokens, maxlen=max_tokens)\n",
    "x_test_pad = pad_sequences(x_test_tokens, maxlen=max_tokens)"
   ]
  },
  {
   "cell_type": "code",
   "execution_count": 19,
   "id": "4400de13",
   "metadata": {},
   "outputs": [
    {
     "data": {
      "text/plain": [
       "(2860, 14)"
      ]
     },
     "execution_count": 19,
     "metadata": {},
     "output_type": "execute_result"
    }
   ],
   "source": [
    "x_train_pad.shape"
   ]
  },
  {
   "cell_type": "code",
   "execution_count": 20,
   "id": "af72debb",
   "metadata": {},
   "outputs": [],
   "source": [
    "idx = tokenizer.word_index\n",
    "inverse_map = dict(zip(idx.values(), idx.keys()))\n",
    "\n",
    "def return_to_sentence(tokens):\n",
    "    words = [inverse_map[token] for token in tokens if token!=0]\n",
    "    text = ' '.join(words)\n",
    "    return text"
   ]
  },
  {
   "cell_type": "code",
   "execution_count": 21,
   "id": "9d38a175",
   "metadata": {},
   "outputs": [
    {
     "name": "stdout",
     "output_type": "stream",
     "text": [
      "poll isra think obama favor israel palestinian tcot\n"
     ]
    }
   ],
   "source": [
    "print(return_to_sentence(x_train_pad[9]))"
   ]
  },
  {
   "cell_type": "code",
   "execution_count": 22,
   "id": "c518b6d9",
   "metadata": {},
   "outputs": [
    {
     "name": "stdout",
     "output_type": "stream",
     "text": [
      "[   0    0    0    0    0    0   56  896   19    1  617  330 1057   28]\n"
     ]
    }
   ],
   "source": [
    "print(x_train_pad[9])"
   ]
  },
  {
   "cell_type": "code",
   "execution_count": 23,
   "id": "3fbee337",
   "metadata": {},
   "outputs": [],
   "source": [
    "model = Sequential()\n",
    "\n",
    "embedding_size = 32\n",
    "\n",
    "model.add(Embedding(input_dim=1500,output_dim=embedding_size,input_length=max_tokens,name='embedding_layer'))\n",
    "model.add(SpatialDropout1D(0.25))\n",
    "model.add(LSTM(50, dropout=0.5, recurrent_dropout=0.5))\n",
    "model.add(Dropout(0.2))\n",
    "model.add(Dense(1, activation='sigmoid'))\n",
    "\n",
    "optimizer = Adam(lr=1e-3)\n",
    "\n",
    "model.compile(loss='binary_crossentropy',optimizer=optimizer,metrics=['accuracy'])"
   ]
  },
  {
   "cell_type": "code",
   "execution_count": 24,
   "id": "c902fd6c",
   "metadata": {},
   "outputs": [
    {
     "name": "stdout",
     "output_type": "stream",
     "text": [
      "Model: \"sequential\"\n",
      "_________________________________________________________________\n",
      "Layer (type)                 Output Shape              Param #   \n",
      "=================================================================\n",
      "embedding_layer (Embedding)  (None, 14, 32)            48000     \n",
      "_________________________________________________________________\n",
      "spatial_dropout1d (SpatialDr (None, 14, 32)            0         \n",
      "_________________________________________________________________\n",
      "lstm (LSTM)                  (None, 50)                16600     \n",
      "_________________________________________________________________\n",
      "dropout (Dropout)            (None, 50)                0         \n",
      "_________________________________________________________________\n",
      "dense (Dense)                (None, 1)                 51        \n",
      "=================================================================\n",
      "Total params: 64,651\n",
      "Trainable params: 64,651\n",
      "Non-trainable params: 0\n",
      "_________________________________________________________________\n"
     ]
    }
   ],
   "source": [
    "model.summary()"
   ]
  },
  {
   "cell_type": "code",
   "execution_count": 25,
   "id": "ca29d1ee",
   "metadata": {
    "scrolled": true
   },
   "outputs": [
    {
     "name": "stdout",
     "output_type": "stream",
     "text": [
      "Epoch 1/8\n",
      "12/12 [==============================] - 0s 29ms/step - loss: 0.6907 - accuracy: 0.5533 - val_loss: 0.6846 - val_accuracy: 0.5944\n",
      "Epoch 2/8\n",
      "12/12 [==============================] - 0s 11ms/step - loss: 0.6805 - accuracy: 0.6036 - val_loss: 0.6673 - val_accuracy: 0.6976\n",
      "Epoch 3/8\n",
      "12/12 [==============================] - 0s 12ms/step - loss: 0.6568 - accuracy: 0.6455 - val_loss: 0.6346 - val_accuracy: 0.6626\n",
      "Epoch 4/8\n",
      "12/12 [==============================] - 0s 12ms/step - loss: 0.6147 - accuracy: 0.6700 - val_loss: 0.6096 - val_accuracy: 0.6958\n",
      "Epoch 5/8\n",
      "12/12 [==============================] - 0s 12ms/step - loss: 0.5778 - accuracy: 0.7072 - val_loss: 0.5827 - val_accuracy: 0.7395\n",
      "Epoch 6/8\n",
      "12/12 [==============================] - 0s 12ms/step - loss: 0.5271 - accuracy: 0.7605 - val_loss: 0.5693 - val_accuracy: 0.7430\n",
      "Epoch 7/8\n",
      "12/12 [==============================] - 0s 12ms/step - loss: 0.4771 - accuracy: 0.7854 - val_loss: 0.5620 - val_accuracy: 0.7325\n",
      "Epoch 8/8\n",
      "12/12 [==============================] - 0s 12ms/step - loss: 0.4328 - accuracy: 0.8138 - val_loss: 0.5569 - val_accuracy: 0.7238\n"
     ]
    }
   ],
   "source": [
    "history = model.fit(x_train_pad, y_train, validation_split=0.2, epochs=8, batch_size=200, shuffle=True, verbose = 1)"
   ]
  },
  {
   "cell_type": "markdown",
   "id": "990a36c9",
   "metadata": {},
   "source": [
    "### ***Performance Analysis - Obama***"
   ]
  },
  {
   "cell_type": "code",
   "execution_count": 26,
   "id": "5d670d29",
   "metadata": {},
   "outputs": [
    {
     "name": "stdout",
     "output_type": "stream",
     "text": [
      "23/23 [==============================] - 0s 696us/step - loss: 0.5344 - accuracy: 0.7385\n"
     ]
    }
   ],
   "source": [
    "result = model.evaluate(x_test_pad, y_test)"
   ]
  },
  {
   "cell_type": "code",
   "execution_count": 27,
   "id": "2a6ee300",
   "metadata": {},
   "outputs": [
    {
     "name": "stdout",
     "output_type": "stream",
     "text": [
      "              precision    recall  f1-score   support\n",
      "\n",
      "           0       0.78      0.71      0.74       381\n",
      "           1       0.70      0.78      0.73       334\n",
      "\n",
      "    accuracy                           0.74       715\n",
      "   macro avg       0.74      0.74      0.74       715\n",
      "weighted avg       0.74      0.74      0.74       715\n",
      "\n"
     ]
    }
   ],
   "source": [
    "pred = (model.predict(x_test_pad) > 0.5).astype(\"int32\")\n",
    "cm = confusion_matrix(y_test, pred)\n",
    "pred = pred[:, 0]\n",
    "print(classification_report(y_test, pred))"
   ]
  },
  {
   "cell_type": "code",
   "execution_count": 28,
   "id": "7d72e46d",
   "metadata": {},
   "outputs": [
    {
     "data": {
      "text/plain": [
       "array([[269, 112],\n",
       "       [ 75, 259]], dtype=int64)"
      ]
     },
     "execution_count": 28,
     "metadata": {},
     "output_type": "execute_result"
    }
   ],
   "source": [
    "cm = confusion_matrix(y_test, pred)\n",
    "cm"
   ]
  },
  {
   "cell_type": "code",
   "execution_count": 29,
   "id": "95dd05ca",
   "metadata": {
    "scrolled": true
   },
   "outputs": [
    {
     "data": {
      "image/png": "[encoded data removed]",
      "text/plain": [
       "<Figure size 432x288 with 1 Axes>"
      ]
     },
     "metadata": {
      "needs_background": "light"
     },
     "output_type": "display_data"
    }
   ],
   "source": [
    "plt.figure()\n",
    "plt.plot(history.history[\"accuracy\"], label = \"Train\")\n",
    "plt.plot(history.history[\"val_accuracy\"], label = \"Test\")\n",
    "plt.title(\"Accuracy\")\n",
    "plt.ylabel(\"Acc\")\n",
    "plt.xlabel(\"epochs\")\n",
    "plt.legend()\n",
    "plt.show()"
   ]
  },
  {
   "cell_type": "code",
   "execution_count": 30,
   "id": "17f69c9e",
   "metadata": {},
   "outputs": [
    {
     "data": {
      "image/png": "[encoded data removed]",
      "text/plain": [
       "<Figure size 432x288 with 1 Axes>"
      ]
     },
     "metadata": {
      "needs_background": "light"
     },
     "output_type": "display_data"
    }
   ],
   "source": [
    "plt.figure()\n",
    "plt.plot(history.history[\"loss\"], label = \"Train\")\n",
    "plt.plot(history.history[\"val_loss\"], label = \"Test\")\n",
    "plt.title(\"Loss\")\n",
    "plt.ylabel(\"Acc\")\n",
    "plt.xlabel(\"epochs\")\n",
    "plt.legend()\n",
    "plt.show()"
   ]
  },
  {
   "cell_type": "markdown",
   "id": "800e05b0",
   "metadata": {},
   "source": [
    "### ***LSTM - Romney***"
   ]
  },
  {
   "cell_type": "code",
   "execution_count": 31,
   "id": "21403ce6",
   "metadata": {},
   "outputs": [],
   "source": [
    "# obama_tweets, obama_class_train\n",
    "romney_df = pd.DataFrame(romney_tweets, columns=['Annotated tweet'])\n",
    "romney_df['Class'] = romney_class_train\n",
    "romney_df[\"Class\"].replace({-1: 0}, inplace=True)\n",
    "\n",
    "sentiment_romney = romney_df['Class'].values\n",
    "data_romney = romney_df['Annotated tweet']"
   ]
  },
  {
   "cell_type": "code",
   "execution_count": 32,
   "id": "678acd3c",
   "metadata": {},
   "outputs": [],
   "source": [
    "x_train, x_test, y_train, y_test = train_test_split(data_romney,sentiment_romney,test_size = 0.2, random_state = 42)"
   ]
  },
  {
   "cell_type": "code",
   "execution_count": 33,
   "id": "f37361a2",
   "metadata": {},
   "outputs": [],
   "source": [
    "tokenizer = Tokenizer(num_words = 1500)\n",
    "tokenizer.fit_on_texts(data_romney)"
   ]
  },
  {
   "cell_type": "code",
   "execution_count": 34,
   "id": "739bb44f",
   "metadata": {},
   "outputs": [],
   "source": [
    "x_train_tokens = tokenizer.texts_to_sequences(x_train)\n",
    "x_test_tokens = tokenizer.texts_to_sequences(x_test)"
   ]
  },
  {
   "cell_type": "code",
   "execution_count": 35,
   "id": "d67fb28b",
   "metadata": {},
   "outputs": [],
   "source": [
    "x_train_pad = pad_sequences(x_train_tokens, maxlen=max_tokens)\n",
    "x_test_pad = pad_sequences(x_test_tokens, maxlen=max_tokens)"
   ]
  },
  {
   "cell_type": "code",
   "execution_count": 36,
   "id": "2140fa80",
   "metadata": {},
   "outputs": [
    {
     "data": {
      "text/plain": [
       "(3174, 14)"
      ]
     },
     "execution_count": 36,
     "metadata": {},
     "output_type": "execute_result"
    }
   ],
   "source": [
    "x_train_pad.shape"
   ]
  },
  {
   "cell_type": "code",
   "execution_count": 37,
   "id": "2e23bf54",
   "metadata": {},
   "outputs": [],
   "source": [
    "idx = tokenizer.word_index\n",
    "inverse_map = dict(zip(idx.values(), idx.keys()))\n",
    "\n",
    "def return_to_sentence(tokens):\n",
    "    words = [inverse_map[token] for token in tokens if token!=0]\n",
    "    text = ' '.join(words)\n",
    "    return text"
   ]
  },
  {
   "cell_type": "code",
   "execution_count": 38,
   "id": "8dcbde00",
   "metadata": {},
   "outputs": [
    {
     "name": "stdout",
     "output_type": "stream",
     "text": [
      "romney great us lose massachusett\n"
     ]
    }
   ],
   "source": [
    "print(return_to_sentence(x_train_pad[9]))"
   ]
  },
  {
   "cell_type": "code",
   "execution_count": 39,
   "id": "f9bc945e",
   "metadata": {},
   "outputs": [
    {
     "name": "stdout",
     "output_type": "stream",
     "text": [
      "[  0   0   0   0   0   0   0   0   0   1 104  30 160 260]\n"
     ]
    }
   ],
   "source": [
    "print(x_train_pad[9])"
   ]
  },
  {
   "cell_type": "code",
   "execution_count": 40,
   "id": "0a1e0e9d",
   "metadata": {},
   "outputs": [],
   "source": [
    "model = Sequential()\n",
    "\n",
    "embedding_size = 32\n",
    "\n",
    "model.add(Embedding(input_dim=1500,output_dim=embedding_size,input_length=max_tokens,name='embedding_layer'))\n",
    "model.add(SpatialDropout1D(0.25))\n",
    "model.add(LSTM(50, dropout=0.5, recurrent_dropout=0.5))\n",
    "model.add(Dropout(0.2))\n",
    "model.add(Dense(1, activation='sigmoid'))\n",
    "\n",
    "optimizer = Adam(lr=1e-3)\n",
    "\n",
    "model.compile(loss='binary_crossentropy',optimizer=optimizer,metrics=['accuracy'])"
   ]
  },
  {
   "cell_type": "code",
   "execution_count": 41,
   "id": "83c90382",
   "metadata": {},
   "outputs": [
    {
     "name": "stdout",
     "output_type": "stream",
     "text": [
      "Model: \"sequential_1\"\n",
      "_________________________________________________________________\n",
      "Layer (type)                 Output Shape              Param #   \n",
      "=================================================================\n",
      "embedding_layer (Embedding)  (None, 14, 32)            48000     \n",
      "_________________________________________________________________\n",
      "spatial_dropout1d_1 (Spatial (None, 14, 32)            0         \n",
      "_________________________________________________________________\n",
      "lstm_1 (LSTM)                (None, 50)                16600     \n",
      "_________________________________________________________________\n",
      "dropout_1 (Dropout)          (None, 50)                0         \n",
      "_________________________________________________________________\n",
      "dense_1 (Dense)              (None, 1)                 51        \n",
      "=================================================================\n",
      "Total params: 64,651\n",
      "Trainable params: 64,651\n",
      "Non-trainable params: 0\n",
      "_________________________________________________________________\n"
     ]
    }
   ],
   "source": [
    "model.summary()"
   ]
  },
  {
   "cell_type": "code",
   "execution_count": 42,
   "id": "39d2c5c1",
   "metadata": {},
   "outputs": [
    {
     "name": "stdout",
     "output_type": "stream",
     "text": [
      "Epoch 1/8\n",
      "13/13 [==============================] - 0s 24ms/step - loss: 0.6776 - accuracy: 0.6904 - val_loss: 0.6464 - val_accuracy: 0.7433\n",
      "Epoch 2/8\n",
      "13/13 [==============================] - 0s 10ms/step - loss: 0.6198 - accuracy: 0.7192 - val_loss: 0.5731 - val_accuracy: 0.7433\n",
      "Epoch 3/8\n",
      "13/13 [==============================] - 0s 10ms/step - loss: 0.5967 - accuracy: 0.7192 - val_loss: 0.5740 - val_accuracy: 0.7433\n",
      "Epoch 4/8\n",
      "13/13 [==============================] - 0s 10ms/step - loss: 0.5802 - accuracy: 0.7192 - val_loss: 0.5513 - val_accuracy: 0.7433\n",
      "Epoch 5/8\n",
      "13/13 [==============================] - 0s 11ms/step - loss: 0.5556 - accuracy: 0.7196 - val_loss: 0.5337 - val_accuracy: 0.7433\n",
      "Epoch 6/8\n",
      "13/13 [==============================] - 0s 10ms/step - loss: 0.5225 - accuracy: 0.7247 - val_loss: 0.5046 - val_accuracy: 0.7512\n",
      "Epoch 7/8\n",
      "13/13 [==============================] - 0s 10ms/step - loss: 0.4779 - accuracy: 0.7562 - val_loss: 0.4847 - val_accuracy: 0.7795\n",
      "Epoch 8/8\n",
      "13/13 [==============================] - 0s 11ms/step - loss: 0.4369 - accuracy: 0.7944 - val_loss: 0.4604 - val_accuracy: 0.7921\n"
     ]
    }
   ],
   "source": [
    "history = model.fit(x_train_pad, y_train, validation_split=0.2, epochs=8, batch_size=200, shuffle=True, verbose = 1)"
   ]
  },
  {
   "cell_type": "markdown",
   "id": "93a740af",
   "metadata": {},
   "source": [
    "### ***Performance Analysis - Romney***"
   ]
  },
  {
   "cell_type": "code",
   "execution_count": 43,
   "id": "3d0473de",
   "metadata": {},
   "outputs": [
    {
     "name": "stdout",
     "output_type": "stream",
     "text": [
      " 1/25 [>.............................] - ETA: 0s - loss: 0.6554 - accuracy: 0.7812WARNING:tensorflow:Callbacks method `on_test_batch_end` is slow compared to the batch time (batch time: 0.0000s vs `on_test_batch_end` time: 0.0010s). Check your callbacks.\n",
      "25/25 [==============================] - 0s 760us/step - loss: 0.4787 - accuracy: 0.7997\n"
     ]
    }
   ],
   "source": [
    "result = model.evaluate(x_test_pad, y_test)"
   ]
  },
  {
   "cell_type": "code",
   "execution_count": 44,
   "id": "874febe7",
   "metadata": {},
   "outputs": [
    {
     "name": "stdout",
     "output_type": "stream",
     "text": [
      "              precision    recall  f1-score   support\n",
      "\n",
      "           0       0.85      0.90      0.87       595\n",
      "           1       0.62      0.52      0.57       199\n",
      "\n",
      "    accuracy                           0.80       794\n",
      "   macro avg       0.74      0.71      0.72       794\n",
      "weighted avg       0.79      0.80      0.79       794\n",
      "\n"
     ]
    }
   ],
   "source": [
    "pred = (model.predict(x_test_pad) > 0.4).astype(\"int32\")\n",
    "cm = confusion_matrix(y_test, pred)\n",
    "pred = pred[:, 0]\n",
    "print(classification_report(y_test, pred))"
   ]
  },
  {
   "cell_type": "code",
   "execution_count": 45,
   "id": "6f91b3b3",
   "metadata": {},
   "outputs": [
    {
     "data": {
      "text/plain": [
       "array([[533,  62],\n",
       "       [ 96, 103]], dtype=int64)"
      ]
     },
     "execution_count": 45,
     "metadata": {},
     "output_type": "execute_result"
    }
   ],
   "source": [
    "cm = confusion_matrix(y_test, pred)\n",
    "cm"
   ]
  },
  {
   "cell_type": "code",
   "execution_count": 46,
   "id": "d9805d9c",
   "metadata": {
    "scrolled": true
   },
   "outputs": [
    {
     "data": {
      "image/png": "[encoded data removed]",
      "text/plain": [
       "<Figure size 432x288 with 1 Axes>"
      ]
     },
     "metadata": {
      "needs_background": "light"
     },
     "output_type": "display_data"
    }
   ],
   "source": [
    "plt.figure()\n",
    "plt.plot(history.history[\"accuracy\"], label = \"Train\")\n",
    "plt.plot(history.history[\"val_accuracy\"], label = \"Test\")\n",
    "plt.title(\"Accuracy\")\n",
    "plt.ylabel(\"Acc\")\n",
    "plt.xlabel(\"epochs\")\n",
    "plt.legend()\n",
    "plt.show()"
   ]
  },
  {
   "cell_type": "code",
   "execution_count": 47,
   "id": "db4d7a44",
   "metadata": {},
   "outputs": [
    {
     "data": {
      "image/png": "[encoded data removed]",
      "text/plain": [
       "<Figure size 432x288 with 1 Axes>"
      ]
     },
     "metadata": {
      "needs_background": "light"
     },
     "output_type": "display_data"
    }
   ],
   "source": [
    "plt.figure()\n",
    "plt.plot(history.history[\"loss\"], label = \"Train\")\n",
    "plt.plot(history.history[\"val_loss\"], label = \"Test\")\n",
    "plt.title(\"Loss\")\n",
    "plt.ylabel(\"Acc\")\n",
    "plt.xlabel(\"epochs\")\n",
    "plt.legend()\n",
    "plt.show()"
   ]
  },
  {
   "cell_type": "code",
   "execution_count": null,
   "id": "788b1310",
   "metadata": {},
   "outputs": [],
   "source": []
  }
 ],
 "metadata": {
  "kernelspec": {
   "display_name": "Python 3",
   "language": "python",
   "name": "python3"
  },
  "language_info": {
   "codemirror_mode": {
    "name": "ipython",
    "version": 3
   },
   "file_extension": ".py",
   "mimetype": "text/x-python",
   "name": "python",
   "nbconvert_exporter": "python",
   "pygments_lexer": "ipython3",
   "version": "3.8.8"
  }
 },
 "nbformat": 4,
 "nbformat_minor": 5
}
