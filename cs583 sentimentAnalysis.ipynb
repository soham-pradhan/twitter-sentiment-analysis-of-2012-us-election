{
 "cells": [
  {
   "cell_type": "markdown",
   "id": "0f08a05d",
   "metadata": {},
   "source": [
    "### Importing Libraries"
   ]
  },
  {
   "cell_type": "code",
   "execution_count": 47,
   "id": "818d62e8",
   "metadata": {},
   "outputs": [],
   "source": [
    "import pandas as pd\n",
    "import nltk\n",
    "import re\n",
    "from sklearn import *\n",
    "import time\n",
    "from sklearn.metrics import classification_report\n",
    "from sklearn.model_selection import train_test_split\n",
    "from nltk.metrics.distance  import edit_distance\n",
    "from imblearn.over_sampling import SMOTE\n",
    "from collections import Counter\n",
    "import matplotlib.pyplot as plt\n",
    "import seaborn as sns\n",
    "%matplotlib inline\n",
    "import warnings\n",
    "warnings.filterwarnings(\"ignore\")"
   ]
  },
  {
   "cell_type": "markdown",
   "id": "817364ff",
   "metadata": {},
   "source": [
    "### Spelling Correction Strategy! (Will Try Later)"
   ]
  },
  {
   "cell_type": "code",
   "execution_count": 26,
   "id": "48700cda",
   "metadata": {},
   "outputs": [],
   "source": [
    "# nltk.download('words')\n",
    "# from nltk.corpus import words\n",
    "# correct_words = words.words()"
   ]
  },
  {
   "cell_type": "code",
   "execution_count": 27,
   "id": "9dc2e63e",
   "metadata": {},
   "outputs": [],
   "source": [
    "# incorrect_words=['happpy', 'azmaing', 'intelliengt']\n",
    "# for word in incorrect_words:\n",
    "#     temp = [(edit_distance(word, w),w) for w in correct_words if w[0]==word[0]]\n",
    "#     print(sorted(temp, key = lambda val:val[0])[0][1])"
   ]
  },
  {
   "cell_type": "markdown",
   "id": "76afd3ab",
   "metadata": {},
   "source": [
    "### Function for Data Cleaning"
   ]
  },
  {
   "cell_type": "code",
   "execution_count": 28,
   "id": "cd7134b4",
   "metadata": {},
   "outputs": [],
   "source": [
    "def dataClean(tweets_raw):\n",
    "    cleanTweets = []\n",
    "    for tweet in tweets_raw:\n",
    "        tweet = tweet.lower() #convert to lowercase\n",
    "        tweet = re.sub(r'\\w+:\\/{2}[\\d\\w-]+(\\.[\\d\\w-]+)*(?:(?:\\/[^\\s/]*))*', '', tweet) #remove URL\n",
    "        tweet = re.sub(r'(\\s)@\\w+', r'', tweet) #remove usernames\n",
    "        tweet = re.sub(r'@\\w+', r'', tweet) #remove usernames\n",
    "        tweet = re.sub('<[^<]+?>', '', tweet) #remove HTML tags\n",
    "        # tweet = re.sub(r'[<>!#@$:.,%\\?-]+', r'', tweet) #remove punctuation and special characters\n",
    "        tweet = re.sub('[^A-Za-z0-9 ]+', '', tweet)\n",
    "        tweet = re.sub(\" \\d+\", \" \", tweet) #remove standalone numbers\n",
    "        lower_case = tweet.lower() #tokenization\n",
    "        \n",
    "        words = lower_case.split()\n",
    "        tweet = ' '.join([w for w in words if not w in nltk.corpus.stopwords.words(\"english\")]) #remove stopwords\n",
    "        ps = nltk.stem.PorterStemmer()\n",
    "        stemmedTweet = [ps.stem(word) for word in tweet.split(\" \")]\n",
    "        stemmedTweet = \" \".join(stemmedTweet)\n",
    "        tweet = str(stemmedTweet)\n",
    "        tweet = tweet.replace(\"'\", \"\")\n",
    "        tweet = tweet.replace(\"\\\"\",\"\")\n",
    "        \n",
    "#         list_w = []\n",
    "#         for word in tweet.split():\n",
    "#             temp = [(edit_distance(word, w),w) for w in correct_words if w[0]==word[0]]\n",
    "#             print(sorted(temp, key = lambda val:val[0])[0][1])\n",
    "        \n",
    "        #print(list_w)\n",
    "        cleanTweets.append(tweet)\n",
    "        \n",
    "    return cleanTweets"
   ]
  },
  {
   "cell_type": "markdown",
   "id": "a0845e40",
   "metadata": {},
   "source": [
    "### Function to Vectorize Cleaned Data"
   ]
  },
  {
   "cell_type": "code",
   "execution_count": 29,
   "id": "13d110f3",
   "metadata": {},
   "outputs": [],
   "source": [
    "def vectorization(clean_train_tweets, clean_test_tweets):\n",
    "    vec = feature_extraction.text.TfidfVectorizer(min_df = 0.00125, max_df = 0.7, sublinear_tf=True, use_idf=True, stop_words=u'english', analyzer= 'word', ngram_range=(1,5),lowercase=True)\n",
    "    train_vectors = vec.fit_transform(clean_train_tweets)\n",
    "    test_vectors = vec.transform(clean_test_tweets)\n",
    "    #print(train_vectors.shape)\n",
    "    #print(vec.get_feature_names())\n",
    "    return train_vectors, test_vectors"
   ]
  },
  {
   "cell_type": "markdown",
   "id": "f0aeed82",
   "metadata": {},
   "source": [
    "### Load the Training File "
   ]
  },
  {
   "cell_type": "code",
   "execution_count": 30,
   "id": "022ceff2",
   "metadata": {},
   "outputs": [],
   "source": [
    "trainingFile = \"training-Obama-Romney-tweets.xlsx\"\n",
    "df_obama = pd.read_excel(trainingFile,sheet_name='Obama')\n",
    "df_romney = pd.read_excel(trainingFile,sheet_name='Romney')"
   ]
  },
  {
   "cell_type": "code",
   "execution_count": 31,
   "id": "af7d4a89",
   "metadata": {},
   "outputs": [],
   "source": [
    "df_obama.drop(df_obama.columns[0], axis=1, inplace = True)\n",
    "df_obama.drop(df_obama.columns[4:], axis=1, inplace = True)\n",
    "\n",
    "df_obama.drop([0],inplace=True)\n",
    "df_obama.rename(columns={df_obama.columns[3]: 'Class'}, inplace = True)\n",
    "#df_obama"
   ]
  },
  {
   "cell_type": "code",
   "execution_count": 32,
   "id": "c2a4fbc2",
   "metadata": {},
   "outputs": [],
   "source": [
    "df_romney.drop(df_romney.columns[0], axis=1, inplace = True)\n",
    "df_romney.drop(df_romney.columns[4:], axis=1, inplace = True)\n",
    "\n",
    "df_romney.drop([0],inplace=True)\n",
    "df_romney.rename(columns={df_romney.columns[3]: 'Class'}, inplace = True)\n",
    "#df_romney"
   ]
  },
  {
   "cell_type": "markdown",
   "id": "2712ac17",
   "metadata": {},
   "source": [
    "### Remove Neutral Sentiments (Only Keep Positive & Negative)"
   ]
  },
  {
   "cell_type": "code",
   "execution_count": 33,
   "id": "4a08176f",
   "metadata": {},
   "outputs": [],
   "source": [
    "df_obama = df_obama[(df_obama['Class'].isin((1,-1)))]\n",
    "df_romney = df_romney[(df_romney['Class'].isin((1,-1)))]"
   ]
  },
  {
   "cell_type": "markdown",
   "id": "2386c092",
   "metadata": {},
   "source": [
    "### Distribution of Class"
   ]
  },
  {
   "cell_type": "code",
   "execution_count": 34,
   "id": "d8417709",
   "metadata": {},
   "outputs": [
    {
     "name": "stdout",
     "output_type": "stream",
     "text": [
      "-1    1922\n",
      " 1    1653\n",
      "Name: Class, dtype: int64\n",
      "-1    2893\n",
      " 1    1075\n",
      "Name: Class, dtype: int64\n"
     ]
    }
   ],
   "source": [
    "print(df_obama[\"Class\"].value_counts())\n",
    "print(df_romney[\"Class\"].value_counts()) #Romney Data Skewed"
   ]
  },
  {
   "cell_type": "markdown",
   "id": "3cef8729",
   "metadata": {},
   "source": [
    "### Data Preprocessing Steps"
   ]
  },
  {
   "cell_type": "code",
   "execution_count": 35,
   "id": "0603922b",
   "metadata": {},
   "outputs": [],
   "source": [
    "obama_tweets_raw = df_obama['Anootated tweet']\n",
    "obama_class = df_obama['Class']\n",
    "romney_tweets_raw = df_romney['Anootated tweet']\n",
    "romney_class = df_romney['Class']"
   ]
  },
  {
   "cell_type": "code",
   "execution_count": 36,
   "id": "f9c7db2d",
   "metadata": {},
   "outputs": [],
   "source": [
    "# Conversion to List\n",
    "obama_tweets_raw = obama_tweets_raw.tolist()\n",
    "romney_tweets_raw = romney_tweets_raw.tolist()"
   ]
  },
  {
   "cell_type": "code",
   "execution_count": 37,
   "id": "4612b139",
   "metadata": {},
   "outputs": [],
   "source": [
    "# Conversion to List\n",
    "obama_class_train = obama_class.tolist()\n",
    "romney_class_train = romney_class.tolist()"
   ]
  },
  {
   "cell_type": "code",
   "execution_count": 38,
   "id": "6837d099",
   "metadata": {},
   "outputs": [],
   "source": [
    "# Data Preprocessing\n",
    "obama_tweets = dataClean(obama_tweets_raw)\n",
    "romney_tweets = dataClean(romney_tweets_raw)"
   ]
  },
  {
   "cell_type": "code",
   "execution_count": 39,
   "id": "83034427",
   "metadata": {},
   "outputs": [],
   "source": [
    "#Train-Test Split\n",
    "obama_train, obama_test, obama_train_class, obama_test_class = train_test_split(obama_tweets, obama_class_train, test_size=0.2, random_state=42)\n",
    "romney_train, romney_test, romney_train_class, romney_test_class = train_test_split(romney_tweets, romney_class_train, test_size=0.2, random_state=42)"
   ]
  },
  {
   "cell_type": "markdown",
   "id": "a93eb51d",
   "metadata": {},
   "source": [
    "### Vectorization"
   ]
  },
  {
   "cell_type": "code",
   "execution_count": 40,
   "id": "2a534b3b",
   "metadata": {},
   "outputs": [],
   "source": [
    "# TF-IDF Vectorization\n",
    "obama_train_corpus, obama_test_corpus = vectorization(obama_train,obama_test)\n",
    "romney_train_corpus, romney_test_corpus = vectorization(romney_train,romney_test)\n",
    "#romney_train_corpus"
   ]
  },
  {
   "cell_type": "markdown",
   "id": "3c4c4cb7",
   "metadata": {},
   "source": [
    "### Oversampling Romney Data to Handle Class Imbalance"
   ]
  },
  {
   "cell_type": "code",
   "execution_count": 41,
   "id": "a530aed2",
   "metadata": {},
   "outputs": [],
   "source": [
    "# Oversampling Romney Data to Handle Class Imbalance\n",
    "# sm = SMOTE(n_jobs=3)\n",
    "# romney_train_corpus, romney_train_class = sm.fit_resample(romney_train_corpus, romney_train_class)\n",
    "# print (\"End Over Sampling\")"
   ]
  },
  {
   "cell_type": "markdown",
   "id": "4404edae",
   "metadata": {},
   "source": [
    "### ML Models: Naive Bayes, SVM, Decision Tree, Random Forest, Logistic Regression, SGD, Neural Network"
   ]
  },
  {
   "cell_type": "code",
   "execution_count": 19,
   "id": "0fe9d090",
   "metadata": {},
   "outputs": [],
   "source": [
    "models = [naive_bayes.BernoulliNB(),svm.SVC(kernel='rbf', gamma=1, C=1, class_weight='balanced'),tree.DecisionTreeClassifier(random_state=0,class_weight='balanced'),ensemble.RandomForestClassifier(criterion='entropy', n_jobs = 10,class_weight='balanced'),linear_model.LogisticRegression(class_weight='balanced'),linear_model.SGDClassifier(class_weight='balanced'),neural_network.MLPClassifier()]"
   ]
  },
  {
   "cell_type": "markdown",
   "id": "59519b1c",
   "metadata": {},
   "source": [
    "### GridSearch for HyperParameter Tuning"
   ]
  },
  {
   "cell_type": "code",
   "execution_count": 20,
   "id": "03b6cf20",
   "metadata": {},
   "outputs": [],
   "source": [
    "# from sklearn.model_selection import GridSearchCV\n",
    "\n",
    "# Cs = [0.001, 0.01, 0.1, 1, 10]\n",
    "# gammas = [0.001, 0.01, 0.1, 1]\n",
    "# param_grid = {'C': Cs, 'gamma' : gammas}\n",
    "# grid_search = GridSearchCV(svm.SVC(kernel='rbf', class_weight='balanced'), param_grid, cv=5)\n",
    "# grid_search.fit(obama_train_corpus, obama_train_class)\n",
    "# grid_search.best_params_"
   ]
  },
  {
   "cell_type": "markdown",
   "id": "5816604e",
   "metadata": {},
   "source": [
    "### Performance Analysis: Test Data"
   ]
  },
  {
   "cell_type": "code",
   "execution_count": 97,
   "id": "5359d978",
   "metadata": {},
   "outputs": [],
   "source": [
    "#Storing the values to have plot analysis\n",
    "Obama_Precision_Positive = []\n",
    "Obama_Precision_Negative = []\n",
    "Obama_Recall_Positive = []\n",
    "Obama_Recall_Negative = []\n",
    "Obama_F1_Score_Positive = []\n",
    "Obama_F1_Score_Negative = []\n",
    "Obama_Accuracy = []\n",
    "\n",
    "Romney_Precision_Positive = []\n",
    "Romney_Precision_Negative = []\n",
    "Romney_Recall_Positive = []\n",
    "Romney_Recall_Negative = []\n",
    "Romney_F1_Score_Positive = []\n",
    "Romney_F1_Score_Negative = []\n",
    "Romney_Accuracy = []"
   ]
  },
  {
   "cell_type": "code",
   "execution_count": 98,
   "id": "46540925",
   "metadata": {},
   "outputs": [
    {
     "name": "stdout",
     "output_type": "stream",
     "text": [
      "BernoulliNB()\n",
      "Obama: \n",
      "Overall Acurracy:  0.7454545454545455 \n",
      "\n",
      "Precision of positive class: 0.690000\n",
      "Recall of positive class: 0.826347\n",
      "F1-Score of positive class: 0.752044 \n",
      "\n",
      "Precision of negative class: 0.815873\n",
      "Recall of negative class: 0.674541\n",
      "F1-Score of negative class: 0.738506 \n",
      "\n",
      "BernoulliNB()\n",
      "Romney: \n",
      "Overall Acurracy:  0.7947103274559194 \n",
      "\n",
      "Precision of positive class: 0.597826\n",
      "Recall of positive class: 0.552764\n",
      "F1-Score of positive class: 0.574413 \n",
      "\n",
      "Precision of negative class: 0.854098\n",
      "Recall of negative class: 0.875630\n",
      "F1-Score of negative class: 0.864730 \n",
      "\n",
      "SVC(C=1, class_weight='balanced', gamma=1)\n",
      "Obama: \n",
      "Overall Acurracy:  0.772027972027972 \n",
      "\n",
      "Precision of positive class: 0.747826\n",
      "Recall of positive class: 0.772455\n",
      "F1-Score of positive class: 0.759941 \n",
      "\n",
      "Precision of negative class: 0.794595\n",
      "Recall of negative class: 0.771654\n",
      "F1-Score of negative class: 0.782956 \n",
      "\n",
      "SVC(C=1, class_weight='balanced', gamma=1)\n",
      "Romney: \n",
      "Overall Acurracy:  0.7858942065491183 \n",
      "\n",
      "Precision of positive class: 0.568720\n",
      "Recall of positive class: 0.603015\n",
      "F1-Score of positive class: 0.585366 \n",
      "\n",
      "Precision of negative class: 0.864494\n",
      "Recall of negative class: 0.847059\n",
      "F1-Score of negative class: 0.855688 \n",
      "\n",
      "DecisionTreeClassifier(class_weight='balanced', random_state=0)\n",
      "Obama: \n",
      "Overall Acurracy:  0.6979020979020979 \n",
      "\n",
      "Precision of positive class: 0.654450\n",
      "Recall of positive class: 0.748503\n",
      "F1-Score of positive class: 0.698324 \n",
      "\n",
      "Precision of negative class: 0.747748\n",
      "Recall of negative class: 0.653543\n",
      "F1-Score of negative class: 0.697479 \n",
      "\n",
      "DecisionTreeClassifier(class_weight='balanced', random_state=0)\n",
      "Romney: \n",
      "Overall Acurracy:  0.6712846347607053 \n",
      "\n",
      "Precision of positive class: 0.386861\n",
      "Recall of positive class: 0.532663\n",
      "F1-Score of positive class: 0.448203 \n",
      "\n",
      "Precision of negative class: 0.821154\n",
      "Recall of negative class: 0.717647\n",
      "F1-Score of negative class: 0.765919 \n",
      "\n",
      "RandomForestClassifier(class_weight='balanced', criterion='entropy', n_jobs=10)\n",
      "Obama: \n",
      "Overall Acurracy:  0.737062937062937 \n",
      "\n",
      "Precision of positive class: 0.697297\n",
      "Recall of positive class: 0.772455\n",
      "F1-Score of positive class: 0.732955 \n",
      "\n",
      "Precision of negative class: 0.779710\n",
      "Recall of negative class: 0.706037\n",
      "F1-Score of negative class: 0.741047 \n",
      "\n",
      "RandomForestClassifier(class_weight='balanced', criterion='entropy', n_jobs=10)\n",
      "Romney: \n",
      "Overall Acurracy:  0.7720403022670025 \n",
      "\n",
      "Precision of positive class: 0.550000\n",
      "Recall of positive class: 0.497487\n",
      "F1-Score of positive class: 0.522427 \n",
      "\n",
      "Precision of negative class: 0.837134\n",
      "Recall of negative class: 0.863866\n",
      "F1-Score of negative class: 0.850289 \n",
      "\n",
      "LogisticRegression(class_weight='balanced')\n",
      "Obama: \n",
      "Overall Acurracy:  0.737062937062937 \n",
      "\n",
      "Precision of positive class: 0.717262\n",
      "Recall of positive class: 0.721557\n",
      "F1-Score of positive class: 0.719403 \n",
      "\n",
      "Precision of negative class: 0.754617\n",
      "Recall of negative class: 0.750656\n",
      "F1-Score of negative class: 0.752632 \n",
      "\n",
      "LogisticRegression(class_weight='balanced')\n",
      "Romney: \n",
      "Overall Acurracy:  0.7682619647355163 \n",
      "\n",
      "Precision of positive class: 0.529644\n",
      "Recall of positive class: 0.673367\n",
      "F1-Score of positive class: 0.592920 \n",
      "\n",
      "Precision of negative class: 0.879852\n",
      "Recall of negative class: 0.800000\n",
      "F1-Score of negative class: 0.838028 \n",
      "\n",
      "SGDClassifier(class_weight='balanced')\n",
      "Obama: \n",
      "Overall Acurracy:  0.7510489510489511 \n",
      "\n",
      "Precision of positive class: 0.720339\n",
      "Recall of positive class: 0.763473\n",
      "F1-Score of positive class: 0.741279 \n",
      "\n",
      "Precision of negative class: 0.781163\n",
      "Recall of negative class: 0.740157\n",
      "F1-Score of negative class: 0.760108 \n",
      "\n",
      "SGDClassifier(class_weight='balanced')\n",
      "Romney: \n",
      "Overall Acurracy:  0.7455919395465995 \n",
      "\n",
      "Precision of positive class: 0.494118\n",
      "Recall of positive class: 0.633166\n",
      "F1-Score of positive class: 0.555066 \n",
      "\n",
      "Precision of negative class: 0.864564\n",
      "Recall of negative class: 0.783193\n",
      "F1-Score of negative class: 0.821869 \n",
      "\n",
      "MLPClassifier()\n",
      "Obama: \n",
      "Overall Acurracy:  0.7160839160839161 \n",
      "\n",
      "Precision of positive class: 0.687679\n",
      "Recall of positive class: 0.718563\n",
      "F1-Score of positive class: 0.702782 \n",
      "\n",
      "Precision of negative class: 0.743169\n",
      "Recall of negative class: 0.713911\n",
      "F1-Score of negative class: 0.728246 \n",
      "\n",
      "MLPClassifier()\n",
      "Romney: \n",
      "Overall Acurracy:  0.739294710327456 \n",
      "\n",
      "Precision of positive class: 0.482301\n",
      "Recall of positive class: 0.547739\n",
      "F1-Score of positive class: 0.512941 \n",
      "\n",
      "Precision of negative class: 0.841549\n",
      "Recall of negative class: 0.803361\n",
      "F1-Score of negative class: 0.822012 \n",
      "\n"
     ]
    }
   ],
   "source": [
    "for clf in models:\n",
    "    #obama\n",
    "    clf.fit(obama_train_corpus, obama_train_class)\n",
    "    preds = clf.predict(obama_test_corpus)\n",
    "    accScore = metrics.accuracy_score(obama_test_class,preds)\n",
    "    labels = [1,-1]\n",
    "    precision = metrics.precision_score(obama_test_class,preds,average=None,labels=labels)\n",
    "    recall = metrics.recall_score(obama_test_class,preds,average=None,labels=labels)\n",
    "    f1Score = metrics.f1_score(obama_test_class,preds,average=None,labels=labels)\n",
    "    print(clf);print(\"Obama: \\nOverall Acurracy: \",accScore,\"\\n\")\n",
    "    Obama_Accuracy.append(accScore)\n",
    "    lbl = ['positive', 'negative']\n",
    "    for i in range(2):\n",
    "        print(\"Precision of %s class: %f\" %(lbl[i],precision[i]))\n",
    "        print(\"Recall of %s class: %f\" %(lbl[i],recall[i]))\n",
    "        print(\"F1-Score of %s class: %f\" %(lbl[i],f1Score[i]),\"\\n\")\n",
    "        if(i==0): \n",
    "            Obama_F1_Score_Positive.append(f1Score[i])\n",
    "            Obama_Precision_Positive.append(precision[i])\n",
    "            Obama_Recall_Positive.append(recall[i])\n",
    "        else: \n",
    "            Obama_F1_Score_Negative.append(f1Score[i])\n",
    "            Obama_Precision_Negative.append(precision[i])\n",
    "            Obama_Recall_Negative.append(recall[i])\n",
    "    \n",
    "    #romney\n",
    "    clf.fit(romney_train_corpus, romney_train_class)\n",
    "    preds = clf.predict(romney_test_corpus)\n",
    "    accScore = metrics.accuracy_score(romney_test_class,preds)\n",
    "    labels = [1,-1]\n",
    "    precision = metrics.precision_score(romney_test_class,preds,average=None,labels=labels)\n",
    "    recall = metrics.recall_score(romney_test_class,preds,average=None,labels=labels)\n",
    "    f1Score = metrics.f1_score(romney_test_class,preds,average=None,labels=labels)\n",
    "    print(clf);print(\"Romney: \\nOverall Acurracy: \",accScore,\"\\n\")\n",
    "    Romney_Accuracy.append(accScore)\n",
    "    lbl = ['positive', 'negative']\n",
    "    for i in range(2):\n",
    "        print(\"Precision of %s class: %f\" %(lbl[i],precision[i]))\n",
    "        print(\"Recall of %s class: %f\" %(lbl[i],recall[i]))\n",
    "        print(\"F1-Score of %s class: %f\" %(lbl[i],f1Score[i]),\"\\n\")\n",
    "        if(i==0): \n",
    "            Romney_F1_Score_Positive.append(f1Score[i])\n",
    "            Romney_Precision_Positive.append(precision[i])\n",
    "            Romney_Recall_Positive.append(recall[i])\n",
    "        else: \n",
    "            Romney_F1_Score_Negative.append(f1Score[i])\n",
    "            Romney_Precision_Negative.append(precision[i])\n",
    "            Romney_Recall_Negative.append(recall[i])"
   ]
  },
  {
   "cell_type": "markdown",
   "id": "691d30da",
   "metadata": {},
   "source": [
    "### Performance Analysis: 10-Fold Cross Validation"
   ]
  },
  {
   "cell_type": "code",
   "execution_count": 22,
   "id": "079d69a0",
   "metadata": {},
   "outputs": [
    {
     "name": "stdout",
     "output_type": "stream",
     "text": [
      "BernoulliNB()\n",
      "Obama: \n",
      "Overall Acurracy:  0.7643356643356644 \n",
      "\n",
      "Precision of positive class: 0.714571\n",
      "Recall of positive class: 0.814253\n",
      "F1-Score of positive class: 0.761162 \n",
      "\n",
      "Precision of negative class: 0.819455\n",
      "Recall of negative class: 0.721609\n",
      "F1-Score of negative class: 0.767426 \n",
      "\n",
      "Romney:\n",
      "Overall Acurracy:  0.7863894139886578 \n",
      "\n",
      "Precision of positive class: 0.629243\n",
      "Recall of positive class: 0.550228\n",
      "F1-Score of positive class: 0.587089 \n",
      "\n",
      "Precision of negative class: 0.836379\n",
      "Recall of negative class: 0.876414\n",
      "F1-Score of negative class: 0.855929 \n",
      "\n",
      "SVC(C=1, class_weight='balanced', gamma=1)\n",
      "Obama: \n",
      "Overall Acurracy:  0.7713286713286713 \n",
      "\n",
      "Precision of positive class: 0.756361\n",
      "Recall of positive class: 0.743745\n",
      "F1-Score of positive class: 0.750000 \n",
      "\n",
      "Precision of negative class: 0.783749\n",
      "Recall of negative class: 0.794938\n",
      "F1-Score of negative class: 0.789304 \n",
      "\n",
      "Romney:\n",
      "Overall Acurracy:  0.7939508506616257 \n",
      "\n",
      "Precision of positive class: 0.634709\n",
      "Recall of positive class: 0.597032\n",
      "F1-Score of positive class: 0.615294 \n",
      "\n",
      "Precision of negative class: 0.849787\n",
      "Recall of negative class: 0.869017\n",
      "F1-Score of negative class: 0.859294 \n",
      "\n",
      "DecisionTreeClassifier(class_weight='balanced', random_state=0)\n",
      "Obama: \n",
      "Overall Acurracy:  0.6692307692307692 \n",
      "\n",
      "Precision of positive class: 0.625759\n",
      "Recall of positive class: 0.703563\n",
      "F1-Score of positive class: 0.662384 \n",
      "\n",
      "Precision of negative class: 0.716049\n",
      "Recall of negative class: 0.639844\n",
      "F1-Score of negative class: 0.675805 \n",
      "\n",
      "Romney:\n",
      "Overall Acurracy:  0.6855702583490864 \n",
      "\n",
      "Precision of positive class: 0.447232\n",
      "Recall of positive class: 0.590183\n",
      "F1-Score of positive class: 0.508858 \n",
      "\n",
      "Precision of negative class: 0.822101\n",
      "Recall of negative class: 0.721932\n",
      "F1-Score of negative class: 0.768767 \n",
      "\n",
      "RandomForestClassifier(class_weight='balanced', criterion='entropy', n_jobs=10)\n",
      "Obama: \n",
      "Overall Acurracy:  0.7332167832167832 \n",
      "\n",
      "Precision of positive class: 0.687584\n",
      "Recall of positive class: 0.772555\n",
      "F1-Score of positive class: 0.727597 \n",
      "\n",
      "Precision of negative class: 0.782293\n",
      "Recall of negative class: 0.699546\n",
      "F1-Score of negative class: 0.738609 \n",
      "\n",
      "Romney:\n",
      "Overall Acurracy:  0.775992438563327 \n",
      "\n",
      "Precision of positive class: 0.619048\n",
      "Recall of positive class: 0.489726\n",
      "F1-Score of positive class: 0.546845 \n",
      "\n",
      "Precision of negative class: 0.819831\n",
      "Recall of negative class: 0.885117\n",
      "F1-Score of negative class: 0.851224 \n",
      "\n",
      "LogisticRegression(class_weight='balanced')\n",
      "Obama: \n",
      "Overall Acurracy:  0.7451048951048951 \n",
      "\n",
      "Precision of positive class: 0.724848\n",
      "Recall of positive class: 0.721001\n",
      "F1-Score of positive class: 0.722919 \n",
      "\n",
      "Precision of negative class: 0.762274\n",
      "Recall of negative class: 0.765737\n",
      "F1-Score of negative class: 0.764001 \n",
      "\n",
      "Romney:\n",
      "Overall Acurracy:  0.7756773787019534 \n",
      "\n",
      "Precision of positive class: 0.582661\n",
      "Recall of positive class: 0.659817\n",
      "F1-Score of positive class: 0.618844 \n",
      "\n",
      "Precision of negative class: 0.863428\n",
      "Recall of negative class: 0.819843\n",
      "F1-Score of negative class: 0.841071 \n",
      "\n",
      "SGDClassifier(class_weight='balanced')\n",
      "Obama: \n",
      "Overall Acurracy:  0.7437062937062937 \n",
      "\n",
      "Precision of positive class: 0.705758\n",
      "Recall of positive class: 0.761941\n",
      "F1-Score of positive class: 0.732774 \n",
      "\n",
      "Precision of negative class: 0.781337\n",
      "Recall of negative class: 0.728099\n",
      "F1-Score of negative class: 0.753779 \n",
      "\n",
      "Romney:\n",
      "Overall Acurracy:  0.7523629489603024 \n",
      "\n",
      "Precision of positive class: 0.542776\n",
      "Recall of positive class: 0.651826\n",
      "F1-Score of positive class: 0.592324 \n",
      "\n",
      "Precision of negative class: 0.856268\n",
      "Recall of negative class: 0.790688\n",
      "F1-Score of negative class: 0.822172 \n",
      "\n",
      "MLPClassifier()\n",
      "Obama: \n",
      "Overall Acurracy:  0.7335664335664336 \n",
      "\n",
      "Precision of positive class: 0.707991\n",
      "Recall of positive class: 0.718726\n",
      "F1-Score of positive class: 0.713318 \n",
      "\n",
      "Precision of negative class: 0.756082\n",
      "Recall of negative class: 0.746269\n",
      "F1-Score of negative class: 0.751143 \n",
      "\n",
      "Romney:\n",
      "Overall Acurracy:  0.7514177693761814 \n",
      "\n",
      "Precision of positive class: 0.552221\n",
      "Recall of positive class: 0.525114\n",
      "F1-Score of positive class: 0.538327 \n",
      "\n",
      "Precision of negative class: 0.822298\n",
      "Recall of negative class: 0.837685\n",
      "F1-Score of negative class: 0.829920 \n",
      "\n"
     ]
    }
   ],
   "source": [
    "#10-Fold Cross Validation Score\n",
    "\n",
    "for clf in models:\n",
    "    #start_time = time.clock()\n",
    "    \n",
    "    #obama\n",
    "    preds = model_selection.cross_val_predict(clf, obama_train_corpus, obama_train_class, cv=10)\n",
    "    accScore = metrics.accuracy_score(obama_train_class,preds)\n",
    "    labels = [1,-1]\n",
    "    precision = metrics.precision_score(obama_train_class,preds,average=None,labels=labels)\n",
    "    recall = metrics.recall_score(obama_train_class,preds,average=None,labels=labels)\n",
    "    f1Score = metrics.f1_score(obama_train_class,preds,average=None,labels=labels)\n",
    "    print(clf);print(\"Obama: \\nOverall Acurracy: \",accScore,\"\\n\")\n",
    "    lbl = ['positive', 'negative']\n",
    "    for i in range(2):\n",
    "        print(\"Precision of %s class: %f\" %(lbl[i],precision[i]))\n",
    "        print(\"Recall of %s class: %f\" %(lbl[i],recall[i]))\n",
    "        print(\"F1-Score of %s class: %f\" %(lbl[i],f1Score[i]),\"\\n\")\n",
    "        \n",
    "    #romney\n",
    "    preds = model_selection.cross_val_predict(clf, romney_train_corpus, romney_train_class, cv=10)\n",
    "    accScore = metrics.accuracy_score(romney_train_class,preds)\n",
    "    precision = metrics.precision_score(romney_train_class,preds,average=None,labels=labels)\n",
    "    recall = metrics.recall_score(romney_train_class,preds,average=None,labels=labels)\n",
    "    f1Score = metrics.f1_score(romney_train_class,preds,average=None,labels=labels)\n",
    "    print(\"Romney:\\nOverall Acurracy: \",accScore,\"\\n\")\n",
    "    for i in range(2):\n",
    "        print(\"Precision of %s class: %f\" %(lbl[i],precision[i]))\n",
    "        print(\"Recall of %s class: %f\" %(lbl[i],recall[i]))\n",
    "        print(\"F1-Score of %s class: %f\" %(lbl[i],f1Score[i]),\"\\n\")\n",
    "    #end_time = time.clock()\n",
    "    #print(\"Total time taken: %0.2f seconds \\n\\n\"%(end_time-start_time))"
   ]
  },
  {
   "cell_type": "markdown",
   "id": "eb205c02",
   "metadata": {},
   "source": [
    "# ***Plotting the Performance of The Algorithms***"
   ]
  },
  {
   "cell_type": "markdown",
   "id": "f1400b62",
   "metadata": {},
   "source": [
    "# ***Obama***"
   ]
  },
  {
   "cell_type": "markdown",
   "id": "b8b5f065",
   "metadata": {},
   "source": [
    "### Obama: Precision"
   ]
  },
  {
   "cell_type": "code",
   "execution_count": 131,
   "id": "f3f704c8",
   "metadata": {},
   "outputs": [
    {
     "data": {
      "image/png": "[encoded data removed]",
      "text/plain": [
       "<Figure size 1440x864 with 1 Axes>"
      ]
     },
     "metadata": {
      "needs_background": "light"
     },
     "output_type": "display_data"
    }
   ],
   "source": [
    "Obama_Precision_Positive.append(0.78) #LSTM\n",
    "Obama_Precision_Negative.append(0.70) #LSTM\n",
    "\n",
    "Obama_Precision_df = pd.DataFrame({\n",
    "    'Algorithm': ['Naive Bayes', 'Support Vector Machine', 'Decision Tree', 'Random Forest', 'Logistic Regression', 'Stochastic Gradient Descent', 'Neural Network', 'LSTM'],\n",
    "    'Precision (Positive)': Obama_Precision_Positive,\n",
    "    'Precision (Negative)': Obama_Precision_Negative\n",
    "})\n",
    "fig, ax1 = plt.subplots(figsize=(20, 12))\n",
    "tidy = Obama_Precision_df.melt(id_vars='Algorithm').rename(columns=str.title)\n",
    "sns.barplot(x='Algorithm', y='Value', hue='Variable', data=tidy, ax=ax1).set_title('Precision: Obama')\n",
    "sns.despine(fig)"
   ]
  },
  {
   "cell_type": "markdown",
   "id": "c2e7883c",
   "metadata": {},
   "source": [
    "### Obama: Recall"
   ]
  },
  {
   "cell_type": "code",
   "execution_count": 130,
   "id": "e7603550",
   "metadata": {},
   "outputs": [
    {
     "data": {
      "image/png": "[encoded data removed]",
      "text/plain": [
       "<Figure size 1440x864 with 1 Axes>"
      ]
     },
     "metadata": {
      "needs_background": "light"
     },
     "output_type": "display_data"
    }
   ],
   "source": [
    "Obama_Recall_Positive.append(0.71) #LSTM\n",
    "Obama_Recall_Negative.append(0.78) #LSTM\n",
    "\n",
    "Obama_Recall_df = pd.DataFrame({\n",
    "    'Algorithm': ['Naive Bayes', 'Support Vector Machine', 'Decision Tree', 'Random Forest', 'Logistic Regression', 'Stochastic Gradient Descent', 'Neural Network', 'LSTM'],\n",
    "    'Recall (Positive)': Obama_Recall_Positive,\n",
    "    'Recall (Negative)': Obama_Recall_Negative\n",
    "})\n",
    "fig, ax1 = plt.subplots(figsize=(20, 12))\n",
    "tidy = Obama_Recall_df.melt(id_vars='Algorithm').rename(columns=str.title)\n",
    "sns.barplot(x='Algorithm', y='Value', hue='Variable', data=tidy, ax=ax1).set_title('Recall: Obama')\n",
    "sns.despine(fig)"
   ]
  },
  {
   "cell_type": "markdown",
   "id": "27c7de4e",
   "metadata": {},
   "source": [
    "### Obama F1-Score"
   ]
  },
  {
   "cell_type": "code",
   "execution_count": 128,
   "id": "aab5d876",
   "metadata": {},
   "outputs": [
    {
     "data": {
      "image/png": "[encoded data removed]",
      "text/plain": [
       "<Figure size 1440x864 with 1 Axes>"
      ]
     },
     "metadata": {
      "needs_background": "light"
     },
     "output_type": "display_data"
    }
   ],
   "source": [
    "Obama_F1_Score_Positive.append(0.73) #LSTM\n",
    "Obama_F1_Score_Negative.append(0.74) #LSTM\n",
    "\n",
    "Obama_F1Score_df = pd.DataFrame({\n",
    "    'Algorithm': ['Naive Bayes', 'Support Vector Machine', 'Decision Tree', 'Random Forest', 'Logistic Regression', 'Stochastic Gradient Descent', 'Neural Network', 'LSTM'],\n",
    "    'F1-Score (Positive)': Obama_F1_Score_Positive,\n",
    "    'F1-Score (Negative)': Obama_F1_Score_Negative\n",
    "})\n",
    "fig, ax1 = plt.subplots(figsize=(20, 12))\n",
    "tidy = Obama_F1Score_df.melt(id_vars='Algorithm').rename(columns=str.title)\n",
    "sns.barplot(x='Algorithm', y='Value', hue='Variable', data=tidy, ax=ax1).set_title('F1 Score: Obama')\n",
    "sns.despine(fig)"
   ]
  },
  {
   "cell_type": "markdown",
   "id": "10bc4bf1",
   "metadata": {},
   "source": [
    "### Obama Accuracy"
   ]
  },
  {
   "cell_type": "code",
   "execution_count": 127,
   "id": "04cd71a3",
   "metadata": {},
   "outputs": [
    {
     "data": {
      "image/png": "[encoded data removed]",
      "text/plain": [
       "<Figure size 1440x864 with 1 Axes>"
      ]
     },
     "metadata": {
      "needs_background": "light"
     },
     "output_type": "display_data"
    }
   ],
   "source": [
    "Obama_Accuracy.append(0.74) #LSTM\n",
    "\n",
    "Obama_Accuracy_df = pd.DataFrame({\n",
    "    'Algorithm': ['Naive Bayes', 'Support Vector Machine', 'Decision Tree', 'Random Forest', 'Logistic Regression', 'Stochastic Gradient Descent', 'Neural Network', 'LSTM'],\n",
    "    'Accuracy': Obama_Accuracy\n",
    "})\n",
    "fig, ax1 = plt.subplots(figsize=(20, 12))\n",
    "tidy = Obama_Accuracy_df.melt(id_vars='Algorithm').rename(columns=str.title)\n",
    "sns.barplot(x='Algorithm', y='Value', data=tidy, ax=ax1).set_title('Accuracy: Obama')\n",
    "sns.despine(fig)"
   ]
  },
  {
   "cell_type": "markdown",
   "id": "32cd7c83",
   "metadata": {},
   "source": [
    "# ***Romney***"
   ]
  },
  {
   "cell_type": "markdown",
   "id": "796da224",
   "metadata": {},
   "source": [
    "### Romney Precision"
   ]
  },
  {
   "cell_type": "code",
   "execution_count": 126,
   "id": "8b4387b1",
   "metadata": {},
   "outputs": [
    {
     "data": {
      "image/png": "[encoded data removed]",
      "text/plain": [
       "<Figure size 1440x864 with 1 Axes>"
      ]
     },
     "metadata": {
      "needs_background": "light"
     },
     "output_type": "display_data"
    }
   ],
   "source": [
    "Romney_Precision_Positive.append(0.62) #LSTM\n",
    "Romney_Precision_Negative.append(0.85) #LSTM\n",
    "\n",
    "Romney_Precision_df = pd.DataFrame({\n",
    "    'Algorithm': ['Naive Bayes', 'Support Vector Machine', 'Decision Tree', 'Random Forest', 'Logistic Regression', 'Stochastic Gradient Descent', 'Neural Network', 'LSTM'],\n",
    "    'Precision (Positive)': Romney_Precision_Positive,\n",
    "    'Precision (Negative)': Romney_Precision_Negative\n",
    "})\n",
    "fig, ax1 = plt.subplots(figsize=(20, 12))\n",
    "tidy = Romney_Precision_df.melt(id_vars='Algorithm').rename(columns=str.title)\n",
    "sns.barplot(x='Algorithm', y='Value', hue='Variable', data=tidy, ax=ax1).set_title('Precision: Romney')\n",
    "sns.despine(fig)"
   ]
  },
  {
   "cell_type": "markdown",
   "id": "401403a4",
   "metadata": {},
   "source": [
    "### Romney Recall"
   ]
  },
  {
   "cell_type": "code",
   "execution_count": 125,
   "id": "174c2cc2",
   "metadata": {},
   "outputs": [
    {
     "data": {
      "image/png": "[encoded data removed]",
      "text/plain": [
       "<Figure size 1440x864 with 1 Axes>"
      ]
     },
     "metadata": {
      "needs_background": "light"
     },
     "output_type": "display_data"
    }
   ],
   "source": [
    "Romney_Recall_Positive.append(0.52) #LSTM\n",
    "Romney_Recall_Negative.append(0.90) #LSTM\n",
    "\n",
    "Romney_Recall_df = pd.DataFrame({\n",
    "    'Algorithm': ['Naive Bayes', 'Support Vector Machine', 'Decision Tree', 'Random Forest', 'Logistic Regression', 'Stochastic Gradient Descent', 'Neural Network','LSTM'],\n",
    "    'Precision (Positive)': Romney_Recall_Positive,\n",
    "    'Precision (Negative)': Romney_Recall_Negative\n",
    "})\n",
    "fig, ax1 = plt.subplots(figsize=(20, 12))\n",
    "tidy = Romney_Recall_df.melt(id_vars='Algorithm').rename(columns=str.title)\n",
    "sns.barplot(x='Algorithm', y='Value', hue='Variable', data=tidy, ax=ax1).set_title('Recall: Romney')\n",
    "sns.despine(fig)"
   ]
  },
  {
   "cell_type": "markdown",
   "id": "817b408a",
   "metadata": {},
   "source": [
    "### Romney F1-Score"
   ]
  },
  {
   "cell_type": "code",
   "execution_count": 123,
   "id": "c8e20797",
   "metadata": {},
   "outputs": [
    {
     "data": {
      "image/png": "[encoded data removed]",
      "text/plain": [
       "<Figure size 1440x864 with 1 Axes>"
      ]
     },
     "metadata": {
      "needs_background": "light"
     },
     "output_type": "display_data"
    }
   ],
   "source": [
    "Romney_F1_Score_Positive.append(0.57) #LSTM\n",
    "Romney_F1_Score_Negative.append(0.87) #LSTM\n",
    "\n",
    "Romney_F1Score_df = pd.DataFrame({\n",
    "    'Algorithm': ['Naive Bayes', 'Support Vector Machine', 'Decision Tree', 'Random Forest', 'Logistic Regression', 'Stochastic Gradient Descent', 'Neural Network', 'LSTM'],\n",
    "    'F1-Score (Positive)': Romney_F1_Score_Positive,\n",
    "    'F1-Score (Negative)': Romney_F1_Score_Negative\n",
    "})\n",
    "fig, ax1 = plt.subplots(figsize=(20, 12))\n",
    "tidy = Romney_F1Score_df.melt(id_vars='Algorithm').rename(columns=str.title)\n",
    "sns.barplot(x='Algorithm', y='Value', hue='Variable', data=tidy, ax=ax1).set_title('F1 Score: Romney')\n",
    "sns.despine(fig)"
   ]
  },
  {
   "cell_type": "markdown",
   "id": "5f713b91",
   "metadata": {},
   "source": [
    "### Romney Accuracy"
   ]
  },
  {
   "cell_type": "code",
   "execution_count": 121,
   "id": "ab61914a",
   "metadata": {},
   "outputs": [
    {
     "data": {
      "image/png": "[encoded data removed]",
      "text/plain": [
       "<Figure size 1440x864 with 1 Axes>"
      ]
     },
     "metadata": {
      "needs_background": "light"
     },
     "output_type": "display_data"
    }
   ],
   "source": [
    "Romney_Accuracy.append(0.80) #LSTM\n",
    "\n",
    "Romney_Accuracy_df = pd.DataFrame({\n",
    "    'Algorithm': ['Naive Bayes', 'Support Vector Machine', 'Decision Tree', 'Random Forest', 'Logistic Regression', 'Stochastic Gradient Descent', 'Neural Network', 'LSTM'],\n",
    "    'Accuracy': Romney_Accuracy\n",
    "})\n",
    "fig, ax1 = plt.subplots(figsize=(20, 12))\n",
    "tidy = Romney_Accuracy_df.melt(id_vars='Algorithm').rename(columns=str.title)\n",
    "sns.barplot(x='Algorithm', y='Value', data=tidy, ax=ax1).set_title('Accuracy: Romney')\n",
    "sns.despine(fig)"
   ]
  },
  {
   "cell_type": "code",
   "execution_count": 122,
   "id": "ec2d1680",
   "metadata": {},
   "outputs": [],
   "source": [
    "# Romney LSTM\n",
    "\n",
    "#             Precision  Recall    F1-Score\n",
    "# Negative       0.85      0.90      0.87\n",
    "# Positive       0.62      0.52      0.57\n",
    "\n",
    "# Accuracy       0.80"
   ]
  },
  {
   "cell_type": "code",
   "execution_count": null,
   "id": "c8ce0e7a",
   "metadata": {},
   "outputs": [],
   "source": [
    "#Obama LSTM\n",
    "\n",
    "#             precision    recall  f1-score\n",
    "# Negative       0.78      0.71      0.74\n",
    "# Positive       0.70      0.78      0.73\n",
    "\n",
    "# accuracy       0.74"
   ]
  }
 ],
 "metadata": {
  "kernelspec": {
   "display_name": "Python 3",
   "language": "python",
   "name": "python3"
  },
  "language_info": {
   "codemirror_mode": {
    "name": "ipython",
    "version": 3
   },
   "file_extension": ".py",
   "mimetype": "text/x-python",
   "name": "python",
   "nbconvert_exporter": "python",
   "pygments_lexer": "ipython3",
   "version": "3.8.8"
  }
 },
 "nbformat": 4,
 "nbformat_minor": 5
}
